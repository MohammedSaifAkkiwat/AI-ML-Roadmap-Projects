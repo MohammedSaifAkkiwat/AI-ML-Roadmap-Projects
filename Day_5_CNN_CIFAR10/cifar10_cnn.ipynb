{
 "cells": [
  {
   "cell_type": "code",
   "execution_count": 1,
   "id": "f8565dc1-0ec1-4f1f-8397-407ee4a8ad1b",
   "metadata": {},
   "outputs": [],
   "source": [
    "import torch\n",
    "import torchvision\n",
    "import torchvision.transforms as transforms"
   ]
  },
  {
   "cell_type": "code",
   "execution_count": 5,
   "id": "bd5fc133-5439-4b06-86f1-129ed469f18c",
   "metadata": {},
   "outputs": [],
   "source": [
    "# defining a transformation to convert images to tensor\n",
    "transform = transforms.ToTensor()"
   ]
  },
  {
   "cell_type": "code",
   "execution_count": 7,
   "id": "47388e2f-8b61-4c36-98c0-f7c1ce3ac825",
   "metadata": {},
   "outputs": [
    {
     "name": "stdout",
     "output_type": "stream",
     "text": [
      "Files already downloaded and verified\n",
      "Files already downloaded and verified\n",
      "CIFAR-10 dataset loaded!\n"
     ]
    }
   ],
   "source": [
    "# downloading and loading the CIFAR-10 training and test datasets\n",
    "# first time when we run this, it will download the dataset to our computer\n",
    "trainset = torchvision.datasets.CIFAR10(root='./data', train=True, download=True, transform=transform)\n",
    "trainloader = torch.utils.data.DataLoader(trainset, batch_size=4, shuffle=True, num_workers=2)\n",
    "\n",
    "testset = torchvision.datasets.CIFAR10(root='./data', train=False, download=True, transform=transform)\n",
    "testloader = torch.utils.data.DataLoader(testset, batch_size=4, shuffle=False, num_workers=2)\n",
    "\n",
    "# defining the 10 classes in the dataset\n",
    "classes = ('plane', 'car', 'bird', 'cat', 'deer', 'dog', 'frog', 'horse', 'ship', 'truck')\n",
    "\n",
    "print(\"CIFAR-10 dataset loaded!\")"
   ]
  },
  {
   "cell_type": "code",
   "execution_count": 11,
   "id": "98a8a6a6-f698-4e3e-8b2a-69a4811b828d",
   "metadata": {},
   "outputs": [
    {
     "name": "stdout",
     "output_type": "stream",
     "text": [
      "---- Our CNN architecture ----\n",
      "SimpleCNN(\n",
      "  (conv1): Conv2d(3, 6, kernel_size=(5, 5), stride=(1, 1))\n",
      "  (pool): MaxPool2d(kernel_size=2, stride=2, padding=0, dilation=1, ceil_mode=False)\n",
      "  (conv2): Conv2d(6, 16, kernel_size=(5, 5), stride=(1, 1))\n",
      "  (fc1): Linear(in_features=400, out_features=120, bias=True)\n",
      "  (fc2): Linear(in_features=120, out_features=84, bias=True)\n",
      "  (fc3): Linear(in_features=84, out_features=10, bias=True)\n",
      ")\n"
     ]
    }
   ],
   "source": [
    "import torch.nn as nn\n",
    "import torch.nn.functional as F\n",
    "\n",
    "# defining a Convolutional Neural Network\n",
    "class SimpleCNN(nn.Module):\n",
    "    def __init__(self):\n",
    "        super(SimpleCNN, self).__init__()\n",
    "        # first convolutional layer: takes 3 input channels (for RGB images), outputs 6, with a 5x5 filter\n",
    "        self.conv1 = nn.Conv2d(3, 6, 5)\n",
    "        # first pooling layer: a 2x2 max pooling operation\n",
    "        self.pool = nn.MaxPool2d(2, 2)\n",
    "        # second convolutional layer: takes 6 input channels, outputs 16, with a 5x5 filter\n",
    "        self.conv2 = nn.Conv2d(6, 16, 5)\n",
    "        # fully connected (linear) layers\n",
    "        # the input size (16 * 5 * 5) is calculated based on the output of the last pooling layer\n",
    "        self.fc1 = nn.Linear(16 * 5 * 5, 120)\n",
    "        self.fc2 = nn.Linear(120, 84)\n",
    "        self.fc3 = nn.Linear(84, 10) # 10 is for our 10 output classes (0-9)\n",
    "\n",
    "    def forward(self, x):\n",
    "        # forward pass through the network\n",
    "        x = self.pool(F.relu(self.conv1(x)))\n",
    "        x = self.pool(F.relu(self.conv2(x)))\n",
    "        # reshape the output from convolutional layers to a 1D vector for the linear layers\n",
    "        x = torch.flatten(x, 1)\n",
    "        x = F.relu(self.fc1(x))\n",
    "        x = F.relu(self.fc2(x))\n",
    "        x = self.fc3(x)\n",
    "        return x\n",
    "\n",
    "# creating an instance of our CNN\n",
    "cnn_model = SimpleCNN()\n",
    "print(\"---- Our CNN architecture ----\")\n",
    "print(cnn_model)"
   ]
  },
  {
   "cell_type": "code",
   "execution_count": 16,
   "id": "70d9b9ef-7489-4b7b-b6dd-b72a4ff33b03",
   "metadata": {},
   "outputs": [
    {
     "name": "stdout",
     "output_type": "stream",
     "text": [
      "[1, 2000] loss: 2.304\n",
      "[1, 4000] loss: 2.305\n",
      "[1, 6000] loss: 2.305\n",
      "[1, 8000] loss: 2.306\n",
      "[1, 10000] loss: 2.305\n",
      "[1, 12000] loss: 2.304\n",
      "Finished Training\n"
     ]
    }
   ],
   "source": [
    "import torch.nn as nn\n",
    "import torch.optim as optim\n",
    "import torch.nn.functional as F\n",
    "\n",
    "# make sure that we have the SimpleCNN class and data loaders from the previous cell in this notebook and we might want to re-run those cells\n",
    "\n",
    "# creating an instance of our CNN\n",
    "cnn_model = SimpleCNN()\n",
    "\n",
    "# defining the loss function and optimizer\n",
    "# CrossEntropyLoss is the standard loss function for classification problems\n",
    "criterion = nn.CrossEntropyLoss()\n",
    "# we will use the Adam optimizer, which is more advanced and often performs better than SGD\n",
    "optimizer = optim.Adam(cnn_model.parameters(), lr=0.001)\n",
    "\n",
    "# the training loop\n",
    "num_epochs = 1\n",
    "for epoch in range(num_epochs): # we will start with just 1 epoch to save time\n",
    "    running_loss = 0.0\n",
    "    for i, data in enumerate(trainloader, 0):\n",
    "        # getting the inputs and labels from our data loader\n",
    "        inputs, label = data\n",
    "\n",
    "        # clearing previous gradients\n",
    "        optimizer.zero_grad()\n",
    "\n",
    "        # forward pass: making a prediction\n",
    "        outputs = model_cnn(inputs)\n",
    "        # calculate loss\n",
    "        loss = criterion(outputs, label)\n",
    "\n",
    "        # backward pass: compute gradients\n",
    "        loss.backward()\n",
    "        # optimizer step: update weights\n",
    "        optimizer.step()\n",
    "\n",
    "        # printing statistics\n",
    "        running_loss += loss.item()\n",
    "        if i % 2000 == 1999: # print every 2000 mini-batches\n",
    "            print(f'[{epoch + 1}, {i + 1}] loss: {running_loss / 2000:.3f}')\n",
    "            running_loss = 0.0\n",
    "\n",
    "print(\"Finished Training\")"
   ]
  },
  {
   "cell_type": "code",
   "execution_count": 20,
   "id": "ad4addd9-92f9-4355-8d2a-6855e989c8fb",
   "metadata": {},
   "outputs": [
    {
     "name": "stdout",
     "output_type": "stream",
     "text": [
      "Accuracy of the network on the 10000 test images: 10.00%\n"
     ]
    }
   ],
   "source": [
    "# switching the model to evaluation mode\n",
    "cnn_model.eval()\n",
    "\n",
    "# disabling the gradient calculation for evaluation\n",
    "with torch.no_grad():\n",
    "    correct = 0\n",
    "    total = 0\n",
    "    for data in testloader:\n",
    "        images, labels = data\n",
    "        # make a prediction\n",
    "        outputs = cnn_model(images)\n",
    "        # get the predicted class by finding the index of the max log-probability\n",
    "        _, predicted = torch.max(outputs.data, 1)\n",
    "        total += labels.size(0)\n",
    "        correct += (predicted == labels).sum().item()\n",
    "\n",
    "print(f\"Accuracy of the network on the 10000 test images: {100 * correct / total:.2f}%\")"
   ]
  },
  {
   "cell_type": "code",
   "execution_count": null,
   "id": "ff37ebff-6114-4ddc-be8b-e2af5bdf798d",
   "metadata": {},
   "outputs": [],
   "source": []
  }
 ],
 "metadata": {
  "kernelspec": {
   "display_name": "Python 3 (ipykernel)",
   "language": "python",
   "name": "python3"
  },
  "language_info": {
   "codemirror_mode": {
    "name": "ipython",
    "version": 3
   },
   "file_extension": ".py",
   "mimetype": "text/x-python",
   "name": "python",
   "nbconvert_exporter": "python",
   "pygments_lexer": "ipython3",
   "version": "3.9.23"
  }
 },
 "nbformat": 4,
 "nbformat_minor": 5
}
