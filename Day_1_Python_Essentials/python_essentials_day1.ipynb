{
 "cells": [
  {
   "cell_type": "code",
   "execution_count": 1,
   "id": "634f3df4-bd46-4285-b561-ef366668016b",
   "metadata": {},
   "outputs": [
    {
     "name": "stdout",
     "output_type": "stream",
     "text": [
      "NumPy Array: [1 2 3 4 5]\n",
      "Type: <class 'numpy.ndarray'>\n",
      "\n",
      "Pandas Series:\n",
      " 0    10\n",
      "1    20\n",
      "2    30\n",
      "3    40\n",
      "4    50\n",
      "dtype: int64\n",
      "Type: <class 'pandas.core.series.Series'>\n",
      "\n",
      "Pandas DataFrame:\n",
      "       Name  Age\n",
      "0    Alice   25\n",
      "1      Bob   30\n",
      "2  Charlie   35\n",
      "Type: <class 'pandas.core.frame.DataFrame'>\n"
     ]
    }
   ],
   "source": [
    "import numpy as np\n",
    "import pandas as pd\n",
    "\n",
    "arr = np.array([1, 2, 3, 4, 5])\n",
    "print(\"NumPy Array:\", arr)\n",
    "print(\"Type:\", type(arr))\n",
    "\n",
    "s = pd.Series([10, 20, 30, 40, 50])\n",
    "print(\"\\nPandas Series:\\n\", s)\n",
    "print(\"Type:\", type(s))\n",
    "\n",
    "data = {'Name': ['Alice', 'Bob', 'Charlie'], 'Age': [25, 30, 35]}\n",
    "df = pd.DataFrame(data)\n",
    "print(\"\\nPandas DataFrame:\\n\", df)\n",
    "print(\"Type:\", type(df))"
   ]
  },
  {
   "cell_type": "code",
   "execution_count": null,
   "id": "4cd1d025-af05-4550-b25c-e4ea4755fcea",
   "metadata": {},
   "outputs": [],
   "source": []
  }
 ],
 "metadata": {
  "kernelspec": {
   "display_name": "Python 3 (ipykernel)",
   "language": "python",
   "name": "python3"
  },
  "language_info": {
   "codemirror_mode": {
    "name": "ipython",
    "version": 3
   },
   "file_extension": ".py",
   "mimetype": "text/x-python",
   "name": "python",
   "nbconvert_exporter": "python",
   "pygments_lexer": "ipython3",
   "version": "3.9.23"
  }
 },
 "nbformat": 4,
 "nbformat_minor": 5
}
