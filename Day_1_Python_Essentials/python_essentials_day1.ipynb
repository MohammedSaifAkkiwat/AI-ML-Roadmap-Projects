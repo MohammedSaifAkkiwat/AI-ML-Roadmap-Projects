{
 "cells": [
  {
   "cell_type": "code",
   "execution_count": 1,
   "id": "634f3df4-bd46-4285-b561-ef366668016b",
   "metadata": {},
   "outputs": [
    {
     "name": "stdout",
     "output_type": "stream",
     "text": [
      "NumPy Array: [1 2 3 4 5]\n",
      "Type: <class 'numpy.ndarray'>\n",
      "\n",
      "Pandas Series:\n",
      " 0    10\n",
      "1    20\n",
      "2    30\n",
      "3    40\n",
      "4    50\n",
      "dtype: int64\n",
      "Type: <class 'pandas.core.series.Series'>\n",
      "\n",
      "Pandas DataFrame:\n",
      "       Name  Age\n",
      "0    Alice   25\n",
      "1      Bob   30\n",
      "2  Charlie   35\n",
      "Type: <class 'pandas.core.frame.DataFrame'>\n"
     ]
    }
   ],
   "source": [
    "import numpy as np\n",
    "import pandas as pd\n",
    "\n",
    "arr = np.array([1, 2, 3, 4, 5])\n",
    "print(\"NumPy Array:\", arr)\n",
    "print(\"Type:\", type(arr))\n",
    "\n",
    "s = pd.Series([10, 20, 30, 40, 50])\n",
    "print(\"\\nPandas Series:\\n\", s)\n",
    "print(\"Type:\", type(s))\n",
    "\n",
    "data = {'Name': ['Alice', 'Bob', 'Charlie'], 'Age': [25, 30, 35]}\n",
    "df = pd.DataFrame(data)\n",
    "print(\"\\nPandas DataFrame:\\n\", df)\n",
    "print(\"Type:\", type(df))"
   ]
  },
  {
   "cell_type": "markdown",
   "id": "30ed23dc-2cd5-4873-a494-2780bd612b22",
   "metadata": {},
   "source": [
    "# Learning NP"
   ]
  },
  {
   "cell_type": "code",
   "execution_count": 2,
   "id": "fdad49a8-88c6-4ab8-bed0-1837d52d3d19",
   "metadata": {},
   "outputs": [],
   "source": [
    "import numpy as np"
   ]
  },
  {
   "cell_type": "code",
   "execution_count": 3,
   "id": "49b09555-5109-4fab-83c5-026ac228cdce",
   "metadata": {},
   "outputs": [
    {
     "data": {
      "text/plain": [
       "array([[1, 2, 3],\n",
       "       [4, 5, 6]])"
      ]
     },
     "execution_count": 3,
     "metadata": {},
     "output_type": "execute_result"
    }
   ],
   "source": [
    " a = np.array([[1, 2, 3],\n",
    "              [4, 5, 6]])\n",
    "a"
   ]
  },
  {
   "cell_type": "code",
   "execution_count": 4,
   "id": "c5d9bce3-adcd-4a73-bbcf-bef7afeba988",
   "metadata": {},
   "outputs": [
    {
     "data": {
      "text/plain": [
       "(2, 3)"
      ]
     },
     "execution_count": 4,
     "metadata": {},
     "output_type": "execute_result"
    }
   ],
   "source": [
    "a.shape"
   ]
  },
  {
   "cell_type": "code",
   "execution_count": 5,
   "id": "e7f54869-1ec3-4ae9-ae6f-37e3e50e4839",
   "metadata": {},
   "outputs": [
    {
     "data": {
      "text/plain": [
       "(6,)"
      ]
     },
     "execution_count": 5,
     "metadata": {},
     "output_type": "execute_result"
    }
   ],
   "source": [
    "a = np.array([1, 2, 3, 4, 5, 6])\n",
    "a\n",
    "a.shape"
   ]
  },
  {
   "cell_type": "code",
   "execution_count": 6,
   "id": "0afb7c9c-93a8-4bf6-950e-8cb54531426b",
   "metadata": {},
   "outputs": [
    {
     "data": {
      "text/plain": [
       "array([1, 2, 3, 4, 5, 6])"
      ]
     },
     "execution_count": 6,
     "metadata": {},
     "output_type": "execute_result"
    }
   ],
   "source": [
    "a"
   ]
  },
  {
   "cell_type": "code",
   "execution_count": 7,
   "id": "66d14a56-de13-4d0b-8a82-853eba528e3d",
   "metadata": {},
   "outputs": [
    {
     "name": "stdout",
     "output_type": "stream",
     "text": [
      "[1 2 3 4 5 6]\n"
     ]
    }
   ],
   "source": [
    "print(a)"
   ]
  },
  {
   "cell_type": "code",
   "execution_count": 8,
   "id": "4211cde3-5a16-47c8-950c-327262234a06",
   "metadata": {},
   "outputs": [
    {
     "data": {
      "text/plain": [
       "(6,)"
      ]
     },
     "execution_count": 8,
     "metadata": {},
     "output_type": "execute_result"
    }
   ],
   "source": [
    "a.shape"
   ]
  },
  {
   "cell_type": "code",
   "execution_count": 9,
   "id": "7dd580f4-f36e-447e-90a3-c9857fdf916d",
   "metadata": {},
   "outputs": [
    {
     "data": {
      "text/plain": [
       "np.int64(3)"
      ]
     },
     "execution_count": 9,
     "metadata": {},
     "output_type": "execute_result"
    }
   ],
   "source": [
    "a[2]"
   ]
  },
  {
   "cell_type": "code",
   "execution_count": 10,
   "id": "68cadc2d-a7c2-412f-a57d-61278d3535d7",
   "metadata": {},
   "outputs": [
    {
     "name": "stdout",
     "output_type": "stream",
     "text": [
      "4\n"
     ]
    }
   ],
   "source": [
    "print(a[3])"
   ]
  },
  {
   "cell_type": "code",
   "execution_count": 11,
   "id": "9f0daad4-6dfa-4ecf-89b0-5822fbc01888",
   "metadata": {},
   "outputs": [
    {
     "data": {
      "text/plain": [
       "array([1, 2])"
      ]
     },
     "execution_count": 11,
     "metadata": {},
     "output_type": "execute_result"
    }
   ],
   "source": [
    "a[:2]"
   ]
  },
  {
   "cell_type": "code",
   "execution_count": 12,
   "id": "857dd991-b8e2-4d90-9fdb-8fd1a9801721",
   "metadata": {},
   "outputs": [
    {
     "name": "stdout",
     "output_type": "stream",
     "text": [
      "[1 2]\n"
     ]
    }
   ],
   "source": [
    "print(a[:2])"
   ]
  },
  {
   "cell_type": "code",
   "execution_count": 13,
   "id": "bf2e45b0-76d8-4f9c-a458-21cd33169c35",
   "metadata": {},
   "outputs": [
    {
     "data": {
      "text/plain": [
       "array([3, 4, 5, 6])"
      ]
     },
     "execution_count": 13,
     "metadata": {},
     "output_type": "execute_result"
    }
   ],
   "source": [
    "a[2:]"
   ]
  },
  {
   "cell_type": "code",
   "execution_count": 14,
   "id": "d8ab1b86-055c-456c-9849-3521864d5b77",
   "metadata": {},
   "outputs": [
    {
     "name": "stdout",
     "output_type": "stream",
     "text": [
      "[6 5 4 3 2 1]\n"
     ]
    }
   ],
   "source": [
    "print(a[::-1])"
   ]
  },
  {
   "cell_type": "code",
   "execution_count": 17,
   "id": "9f8218d9-fb52-4cbe-83ea-b659b24fcc61",
   "metadata": {},
   "outputs": [
    {
     "name": "stdout",
     "output_type": "stream",
     "text": [
      "No of Dimnesions -  0\n",
      "Shape -  ()\n",
      "Len of Shape -  0\n",
      "Size -  1\n"
     ]
    }
   ],
   "source": [
    "a = np.array(23)\n",
    "print('No of Dimnesions - ', a.ndim)\n",
    "print('Shape - ', a.shape)\n",
    "print('Len of Shape - ', len(a.shape))\n",
    "print('Size - ', a.size)"
   ]
  },
  {
   "cell_type": "code",
   "execution_count": 18,
   "id": "72ea1c8a-509d-4ab3-87d2-68c9f77ab7a6",
   "metadata": {},
   "outputs": [
    {
     "name": "stdout",
     "output_type": "stream",
     "text": [
      "No of Dimnesions -  1\n",
      "Shape -  (3,)\n",
      "Len of Shape -  1\n",
      "Size -  3\n"
     ]
    }
   ],
   "source": [
    "a = np.array([1, 2, 3])\n",
    "print('No of Dimnesions - ', a.ndim)\n",
    "print('Shape - ', a.shape)\n",
    "print('Len of Shape - ', len(a.shape))\n",
    "print('Size - ', a.size)"
   ]
  },
  {
   "cell_type": "code",
   "execution_count": 19,
   "id": "fb01687f-f96b-4bf2-aafc-0a7f11a81ed0",
   "metadata": {},
   "outputs": [
    {
     "name": "stdout",
     "output_type": "stream",
     "text": [
      "No of Dimnesions -  2\n",
      "Shape -  (2, 3)\n",
      "Len of Shape -  2\n",
      "Size -  6\n"
     ]
    }
   ],
   "source": [
    "a = np.array([[1, 2, 3],\n",
    "             [4, 5, 6]])\n",
    "print('No of Dimnesions - ', a.ndim)\n",
    "print('Shape - ', a.shape)\n",
    "print('Len of Shape - ', len(a.shape))\n",
    "print('Size - ', a.size)"
   ]
  },
  {
   "cell_type": "code",
   "execution_count": 20,
   "id": "2b642e24-8d20-4370-a3ab-468dc5dd2e91",
   "metadata": {},
   "outputs": [
    {
     "name": "stdout",
     "output_type": "stream",
     "text": [
      "No of Dimnesions -  3\n",
      "Shape -  (2, 2, 3)\n",
      "Len of Shape -  3\n",
      "Size -  12\n"
     ]
    }
   ],
   "source": [
    "a = np.array([[[1, 2, 3], \n",
    "              [4, 5, 6]],\n",
    "              [[7, 8, 9],\n",
    "              [10, 11, 12]]])\n",
    "print('No of Dimnesions - ', a.ndim)\n",
    "print('Shape - ', a.shape)\n",
    "print('Len of Shape - ', len(a.shape))\n",
    "print('Size - ', a.size)"
   ]
  },
  {
   "cell_type": "code",
   "execution_count": 24,
   "id": "2edf18db-bc4c-4ae6-b077-c600674a2468",
   "metadata": {},
   "outputs": [
    {
     "data": {
      "text/plain": [
       "array([1., 1., 1., 1., 1.])"
      ]
     },
     "execution_count": 24,
     "metadata": {},
     "output_type": "execute_result"
    }
   ],
   "source": [
    "b = np.ones(5)\n",
    "b"
   ]
  },
  {
   "cell_type": "code",
   "execution_count": 35,
   "id": "0c2acf43-6489-4662-bda0-f9447b32404b",
   "metadata": {},
   "outputs": [
    {
     "data": {
      "text/plain": [
       "array([[[  23925768161198147,   32370111954616435],\n",
       "        [  32370051825598556,   12948244072562785],\n",
       "        [  32651616996819049,   25896170311057512],\n",
       "        [  28710924373327984,   26740556586287209]],\n",
       "\n",
       "       [[  27303510834217060,   25896196080664693],\n",
       "        [  32651591226556520,   12948368627204207],\n",
       "        [  29555336418492531,   29836540811477108],\n",
       "        [  30962737072111727, 8389643155844890721]]])"
      ]
     },
     "execution_count": 35,
     "metadata": {},
     "output_type": "execute_result"
    }
   ],
   "source": [
    "c = np.empty((2, 4, 2), dtype='int64')\n",
    "c"
   ]
  },
  {
   "cell_type": "code",
   "execution_count": 36,
   "id": "fb0659c4-41f8-42ee-9509-c88c6f58881c",
   "metadata": {},
   "outputs": [
    {
     "data": {
      "text/plain": [
       "array([ 2,  4,  6,  8, 10])"
      ]
     },
     "execution_count": 36,
     "metadata": {},
     "output_type": "execute_result"
    }
   ],
   "source": [
    "d = np.linspace(2, 10, 5, dtype='int64')\n",
    "d"
   ]
  },
  {
   "cell_type": "code",
   "execution_count": 29,
   "id": "5f14e81a-fdc0-4c05-bfd4-a5d340e6ebd3",
   "metadata": {},
   "outputs": [
    {
     "data": {
      "text/plain": [
       "array([2, 4, 6, 8])"
      ]
     },
     "execution_count": 29,
     "metadata": {},
     "output_type": "execute_result"
    }
   ],
   "source": [
    "e = np.arange(2, 10, 2)\n",
    "e"
   ]
  },
  {
   "cell_type": "code",
   "execution_count": 38,
   "id": "11ba975d-7112-4a68-a877-5fe6a4ec6c3c",
   "metadata": {},
   "outputs": [
    {
     "data": {
      "text/plain": [
       "array([0, 1, 2, 3, 4, 5, 6])"
      ]
     },
     "execution_count": 38,
     "metadata": {},
     "output_type": "execute_result"
    }
   ],
   "source": [
    "arr = np.arange(6)\n",
    "arr"
   ]
  },
  {
   "cell_type": "code",
   "execution_count": 44,
   "id": "2d14bf7f-e49e-4c0f-a45c-b728579be053",
   "metadata": {},
   "outputs": [
    {
     "data": {
      "text/plain": [
       "array([[0, 2, 4],\n",
       "       [1, 3, 5]])"
      ]
     },
     "execution_count": 44,
     "metadata": {},
     "output_type": "execute_result"
    }
   ],
   "source": [
    "np.reshape(arr, (2,3), order='F')"
   ]
  },
  {
   "cell_type": "code",
   "execution_count": 57,
   "id": "1592aaeb-1e94-4690-a1e5-a794198f2abe",
   "metadata": {},
   "outputs": [
    {
     "data": {
      "text/plain": [
       "array([ 1,  2,  3,  4,  5,  6,  7,  8,  9, 10])"
      ]
     },
     "execution_count": 57,
     "metadata": {},
     "output_type": "execute_result"
    }
   ],
   "source": [
    "e = np.array([10, 1, 8, 2, 6, 3, 4, 9, 5, 7])\n",
    "np.partition(e, 5)"
   ]
  },
  {
   "cell_type": "code",
   "execution_count": 61,
   "id": "945a4901-5f7a-4718-b143-9e6214cde28c",
   "metadata": {},
   "outputs": [
    {
     "data": {
      "text/plain": [
       "array([[10],\n",
       "       [ 1],\n",
       "       [ 8],\n",
       "       [ 2],\n",
       "       [ 6],\n",
       "       [ 3],\n",
       "       [ 4],\n",
       "       [ 9],\n",
       "       [ 5],\n",
       "       [ 7]])"
      ]
     },
     "execution_count": 61,
     "metadata": {},
     "output_type": "execute_result"
    }
   ],
   "source": [
    "np.reshape(e, (10, 1), order='F')"
   ]
  },
  {
   "cell_type": "code",
   "execution_count": 63,
   "id": "50e15744-a5d9-454a-9564-b440b504e8f8",
   "metadata": {},
   "outputs": [
    {
     "data": {
      "text/plain": [
       "array([[2, 4],\n",
       "       [4, 7],\n",
       "       [7, 5]])"
      ]
     },
     "execution_count": 63,
     "metadata": {},
     "output_type": "execute_result"
    }
   ],
   "source": [
    "rng = np.random.default_rng()\n",
    "rng.integers(2, 9, (3, 2))"
   ]
  },
  {
   "cell_type": "markdown",
   "id": "7cae9dc8-ad23-45c8-b8f8-b8d8b89118c9",
   "metadata": {},
   "source": [
    "# Learning PD"
   ]
  },
  {
   "cell_type": "code",
   "execution_count": 1,
   "id": "29d5d0cc-b12a-4100-8d48-e6b11aa34cc1",
   "metadata": {},
   "outputs": [],
   "source": [
    "import pandas as pd"
   ]
  },
  {
   "cell_type": "code",
   "execution_count": 4,
   "id": "cf037b6f-1e58-4378-a6d8-ae5bc03e4388",
   "metadata": {},
   "outputs": [
    {
     "name": "stdout",
     "output_type": "stream",
     "text": [
      "a    1\n",
      "b    2\n",
      "c    3\n",
      "d    4\n",
      "e    5\n",
      "dtype: int64\n"
     ]
    }
   ],
   "source": [
    "#Series\n",
    "data = [1, 2, 3, 4, 5]\n",
    "index = ['a', 'b', 'c', 'd', 'e']\n",
    "series = pd.Series(data, index = index)\n",
    "print(series)"
   ]
  },
  {
   "cell_type": "code",
   "execution_count": 11,
   "id": "29eecc67-cc21-406d-bf90-5066d52ec65a",
   "metadata": {},
   "outputs": [
    {
     "name": "stdout",
     "output_type": "stream",
     "text": [
      "    c0  c1  c2\n",
      "r1   1   2   3\n",
      "r2   4   5   6\n",
      "r3   7   8   9\n"
     ]
    }
   ],
   "source": [
    "#DataFrame\n",
    "df = pd.DataFrame([[1, 2, 3], [4, 5, 6], [7, 8, 9]], columns=['c0', 'c1', 'c2'], index=['r1', 'r2', 'r3'])\n",
    "print(df)"
   ]
  },
  {
   "cell_type": "code",
   "execution_count": null,
   "id": "ad2e4025-6d85-400c-884f-b2fae07ee126",
   "metadata": {},
   "outputs": [],
   "source": [
    "# to read from a csv file - datafile = pd.read_csv('./filename.csv')\n"
   ]
  }
 ],
 "metadata": {
  "kernelspec": {
   "display_name": "Python 3 (ipykernel)",
   "language": "python",
   "name": "python3"
  },
  "language_info": {
   "codemirror_mode": {
    "name": "ipython",
    "version": 3
   },
   "file_extension": ".py",
   "mimetype": "text/x-python",
   "name": "python",
   "nbconvert_exporter": "python",
   "pygments_lexer": "ipython3",
   "version": "3.9.23"
  }
 },
 "nbformat": 4,
 "nbformat_minor": 5
}
