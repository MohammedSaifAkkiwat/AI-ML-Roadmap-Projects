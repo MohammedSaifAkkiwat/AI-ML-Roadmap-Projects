{
 "cells": [
  {
   "cell_type": "code",
   "execution_count": 2,
   "id": "356e7f64-3e20-4131-821b-b6aa9315b02e",
   "metadata": {},
   "outputs": [
    {
     "name": "stderr",
     "output_type": "stream",
     "text": [
      "D:\\MinicondaEnvs\\ai_ml_env\\lib\\site-packages\\tqdm\\auto.py:21: TqdmWarning: IProgress not found. Please update jupyter and ipywidgets. See https://ipywidgets.readthedocs.io/en/stable/user_install.html\n",
      "  from .autonotebook import tqdm as notebook_tqdm\n",
      "Device set to use cpu\n",
      "Truncation was not explicitly activated but `max_length` is provided a specific value, please use `truncation=True` to explicitly truncate examples to max length. Defaulting to 'longest_first' truncation strategy. If you encode pairs of sequences (GLUE-style) with the tokenizer you can select this strategy more precisely by providing a specific strategy to `truncation`.\n",
      "Setting `pad_token_id` to `eos_token_id`:50256 for open-end generation.\n",
      "Both `max_new_tokens` (=256) and `max_length`(=50) seem to have been set. `max_new_tokens` will take precedence. Please refer to the documentation for more information. (https://huggingface.co/docs/transformers/main/en/main_classes/text_generation)\n"
     ]
    },
    {
     "name": "stdout",
     "output_type": "stream",
     "text": [
      "The future of Artificial Intelligence is also being explored by a number of researchers. The first is the Harvard-Smithsonian Center for Astrophysics' Artificial Intelligence Group (AIG), which has developed a computational model of brain functions that provides insight into the neural mechanisms underlying its processing and memory. The second is the Max Planck Institute for Advanced Study (MPAS) in Heidelberg, Germany's König Institute for Advanced Studies, a group that is conducting a number of studies in the area of neural networks.\n",
      "\n",
      "The research, led by researchers in Janssen University of Technology in Germany, has been funded by the National Science Foundation through the European Molecular and Cellular Research Council. The full press release can be found here.\n"
     ]
    }
   ],
   "source": [
    "from transformers import pipeline\n",
    "\n",
    "# Use the 'pipeline' function for text generation\n",
    "# We'll use a pre-trained GPT-2 model, which is a good starting point\n",
    "generator = pipeline(\"text-generation\", model=\"gpt2\")\n",
    "\n",
    "# Generate text from a prompt\n",
    "prompt = \"The future of Artificial Intelligence is\"\n",
    "result = generator(prompt, max_length=50, num_return_sequences=1)\n",
    "\n",
    "# Print the generated text\n",
    "print(result[0]['generated_text'])"
   ]
  },
  {
   "cell_type": "code",
   "execution_count": 4,
   "id": "139649cf-ee78-44bc-8087-08a5295986e3",
   "metadata": {},
   "outputs": [
    {
     "name": "stderr",
     "output_type": "stream",
     "text": [
      "Setting `pad_token_id` to `eos_token_id`:50256 for open-end generation.\n",
      "Both `max_new_tokens` (=256) and `max_length`(=53) seem to have been set. `max_new_tokens` will take precedence. Please refer to the documentation for more information. (https://huggingface.co/docs/transformers/main/en/main_classes/text_generation)\n"
     ]
    },
    {
     "name": "stdout",
     "output_type": "stream",
     "text": [
      "Review: The acting was terrible, but the music was decent. Sentiment: Negative\n",
      "Review: I haven't seen a better plot twist in years! Sentiment: Positive\n",
      "Review: The runtime was too long. I was bored. Sentiment: Negative\n",
      "Review: This film should win all the awards. The cinematography is brilliant. Sentiment:Overall: 9/10\n",
      "My review: It was a lot of fun. I'll probably buy this once I get it, though.\n"
     ]
    }
   ],
   "source": [
    "# few_shot_prompt = \"\"\"\n",
    "#     You are a sentiment analysis system. Your task is to classify the following movie reviews as 'positive' or 'negative'\n",
    "#     Examples:\n",
    "#     Review: The acting was terrible, but the music was decent.\n",
    "#     Sentiment: Negative\n",
    "#     Review: I haven't seen a better plot twist in years!\n",
    "#     Sentiment: Positive\n",
    "#     Review: The runtime was too long. I was bored.\n",
    "#     Sentiment: Negative\n",
    "\n",
    "#     Review: This film should win all the awards. The cinematography is brilliant.\n",
    "#     Sentiment: \n",
    "# \"\"\"\n",
    "\n",
    "# sentiment_result = generator(few_shot_prompt, max_length=200)\n",
    "# print(sentiment_result[0]['generated_text'])\n",
    "\n",
    "# 1. Define the concise prompt (fewer line breaks, no introductory sentence)\n",
    "fixed_prompt = \"\"\"Review: The acting was terrible, but the music was decent. Sentiment: Negative\n",
    "Review: I haven't seen a better plot twist in years! Sentiment: Positive\n",
    "Review: The runtime was too long. I was bored. Sentiment: Negative\n",
    "Review: This film should win all the awards. The cinematography is brilliant. Sentiment:\"\"\"\n",
    "\n",
    "# 2. Call the generator with a very small max_length to force it to stop\n",
    "fixed_sentiment_result = generator(fixed_prompt, max_length=len(fixed_prompt.split()) + 5)\n",
    "\n",
    "# 3. Print the result\n",
    "print(fixed_sentiment_result[0]['generated_text'])"
   ]
  },
  {
   "cell_type": "code",
   "execution_count": 6,
   "id": "034094c4-828d-41f4-98b4-c978c1a87d9e",
   "metadata": {},
   "outputs": [
    {
     "name": "stderr",
     "output_type": "stream",
     "text": [
      "Setting `pad_token_id` to `eos_token_id`:50256 for open-end generation.\n",
      "Both `max_new_tokens` (=256) and `max_length`(=200) seem to have been set. `max_new_tokens` will take precedence. Please refer to the documentation for more information. (https://huggingface.co/docs/transformers/main/en/main_classes/text_generation)\n"
     ]
    },
    {
     "name": "stdout",
     "output_type": "stream",
     "text": [
      "You are a creative name generator for businesses. Your task is to generate a list of five names for a coffee shop and give a brief explanation about each of them. Then, you will check them out on your project and put together a list of five names for the place, and then you'll add them to the list for sale.\n",
      "\n",
      "There are some simple techniques for making this work:\n",
      "\n",
      "Take the list of names you've created and put them in the form of a list of five names.\n",
      "\n",
      "Then, you can see what's on the list, and you can add them to the list of five names if you need to.\n",
      "\n",
      "Then, you can see what's on the list, and you can add them to the list of five names if you need to.\n",
      "\n",
      "You can add to the list of five names by adding the first two names you've created to the list.\n",
      "\n",
      "Then, you can see what's on the list, and you can add them to the list of five names if you need to.\n",
      "\n",
      "You can add to the list of five names by adding the last name you've created to the list.\n",
      "\n",
      "You can also add to the list of five names by adding the last name you've created to the list.\n",
      "\n",
      "We are using the list of names to create the list of five names, so we will be using that list for our next post\n"
     ]
    }
   ],
   "source": [
    "zero_shot_prompt = \"\"\"You are a creative name generator for businesses. Your task is to generate a list of five names for a coffee shop and give a brief explanation about each of them\"\"\"\n",
    "\n",
    "names_list = generator(zero_shot_prompt, max_length=200)\n",
    "\n",
    "print(names_list[0]['generated_text'])"
   ]
  },
  {
   "cell_type": "code",
   "execution_count": null,
   "id": "5edecd33-a4ee-4eaa-b070-49f083730407",
   "metadata": {},
   "outputs": [],
   "source": []
  }
 ],
 "metadata": {
  "kernelspec": {
   "display_name": "Python 3 (ipykernel)",
   "language": "python",
   "name": "python3"
  },
  "language_info": {
   "codemirror_mode": {
    "name": "ipython",
    "version": 3
   },
   "file_extension": ".py",
   "mimetype": "text/x-python",
   "name": "python",
   "nbconvert_exporter": "python",
   "pygments_lexer": "ipython3",
   "version": "3.9.23"
  }
 },
 "nbformat": 4,
 "nbformat_minor": 5
}
