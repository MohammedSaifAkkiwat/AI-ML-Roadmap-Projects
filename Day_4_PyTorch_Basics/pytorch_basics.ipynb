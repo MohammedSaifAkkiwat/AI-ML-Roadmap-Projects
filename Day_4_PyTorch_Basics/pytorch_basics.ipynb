{
 "cells": [
  {
   "cell_type": "code",
   "execution_count": 1,
   "id": "52c5856c-67db-4dde-8c54-9ea007f9d073",
   "metadata": {},
   "outputs": [],
   "source": [
    "import torch"
   ]
  },
  {
   "cell_type": "code",
   "execution_count": 4,
   "id": "c821ab99-8f7d-4087-85b0-9357e3b22747",
   "metadata": {},
   "outputs": [
    {
     "name": "stdout",
     "output_type": "stream",
     "text": [
      "Tensor created from a list: \n",
      "tensor([[1, 2, 3],\n",
      "        [4, 5, 6]])\n"
     ]
    }
   ],
   "source": [
    "# creating a tensor from a list\n",
    "x = torch.tensor([[1, 2, 3], [4, 5, 6]])\n",
    "print(\"Tensor created from a list: \")\n",
    "print(x)"
   ]
  },
  {
   "cell_type": "code",
   "execution_count": 5,
   "id": "d7e76735-596a-47b5-94cd-2f30be6c293b",
   "metadata": {},
   "outputs": [
    {
     "name": "stdout",
     "output_type": "stream",
     "text": [
      "torch.Size([2, 3])\n"
     ]
    }
   ],
   "source": [
    "# getting the shape of the tensor\n",
    "print(x.shape)"
   ]
  },
  {
   "cell_type": "code",
   "execution_count": 6,
   "id": "5374f9d4-1bd3-4997-bec2-a0e640e51636",
   "metadata": {},
   "outputs": [
    {
     "name": "stdout",
     "output_type": "stream",
     "text": [
      "Tensor addition: \n",
      "tensor([[2, 3, 4],\n",
      "        [5, 6, 7]])\n"
     ]
    }
   ],
   "source": [
    "y = torch.ones_like(x) # creates a tensor of ones with the properties of 'x'\n",
    "z = x + y\n",
    "print(\"Tensor addition: \")\n",
    "print(z)"
   ]
  },
  {
   "cell_type": "code",
   "execution_count": 7,
   "id": "2c56b8f8-8828-4728-b965-4eaad9aa5e52",
   "metadata": {},
   "outputs": [],
   "source": [
    "import torch.nn as nn\n",
    "import torch.optim as optim"
   ]
  },
  {
   "cell_type": "code",
   "execution_count": 8,
   "id": "8082ec62-cdad-49ec-8119-419e2cb19bb2",
   "metadata": {},
   "outputs": [
    {
     "name": "stdout",
     "output_type": "stream",
     "text": [
      "------ Our Neural Network's Architecture ------\n",
      "SimpleNN(\n",
      "  (fc_layers): Sequential(\n",
      "    (0): Linear(in_features=2, out_features=16, bias=True)\n",
      "    (1): ReLU()\n",
      "    (2): Linear(in_features=16, out_features=1, bias=True)\n",
      "  )\n",
      ")\n"
     ]
    }
   ],
   "source": [
    "class SimpleNN(nn.Module):\n",
    "    def __init__(self):\n",
    "        super(SimpleNN, self).__init__()\n",
    "        # defining a sequence of layers\n",
    "        self.fc_layers = nn.Sequential(\n",
    "            # input layer: 2 features (for our synthetic data) to a hidden layer of 16 neurons\n",
    "            nn.Linear(2, 16),\n",
    "            # activation function: ReLU\n",
    "            nn.ReLU(),\n",
    "            # hidden layer: 16 neurons to a final output layer of 1 neuron\n",
    "            nn.Linear(16, 1)\n",
    "        )\n",
    "\n",
    "        def forward(self, x):\n",
    "            # defining the forward pass\n",
    "            return self.fc_layers(x)\n",
    "\n",
    "# Creating an instance for our network\n",
    "model = SimpleNN()\n",
    "print(\"------ Our Neural Network's Architecture ------\")\n",
    "print(model)"
   ]
  },
  {
   "cell_type": "code",
   "execution_count": 13,
   "id": "dd57025b-9457-4268-b5cf-02abf036ab4d",
   "metadata": {},
   "outputs": [
    {
     "name": "stdout",
     "output_type": "stream",
     "text": [
      "Epoch [10/100], Loss: 7.3121\n",
      "Epoch [20/100], Loss: 0.0597\n",
      "Epoch [30/100], Loss: 0.0461\n",
      "Epoch [40/100], Loss: 0.0397\n",
      "Epoch [50/100], Loss: 0.0343\n",
      "Epoch [60/100], Loss: 0.0297\n",
      "Epoch [70/100], Loss: 0.0257\n",
      "Epoch [80/100], Loss: 0.0223\n",
      "Epoch [90/100], Loss: 0.0194\n",
      "Epoch [100/100], Loss: 0.0169\n",
      "Training Finihed!\n"
     ]
    }
   ],
   "source": [
    "import torch.nn as nn\n",
    "import torch.optim as optim\n",
    "\n",
    "class SimpleNN(nn.Module):\n",
    "    # defining a simple neural network\n",
    "    def __init__(self):\n",
    "        super(SimpleNN, self).__init__()\n",
    "        self.fc_layers = nn.Sequential(\n",
    "            nn.Linear(2, 16),\n",
    "            nn.ReLU(),\n",
    "            nn.Linear(16, 1)\n",
    "        )\n",
    "\n",
    "    def forward(self, x):\n",
    "        return self.fc_layers(x)\n",
    "\n",
    "# creating an instance of our network\n",
    "model = SimpleNN()\n",
    "\n",
    "# creating a simple and synthetic data set with 100 samples with 2 features\n",
    "X = torch.rand(100, 2)\n",
    "\n",
    "# creating a simple target(y), just a linear combination of x\n",
    "y = 2 * X[:, 0] + 3 * X[:, 1] + 5\n",
    "# our model will try to learn this relationship\n",
    "\n",
    "# defining the loss function and optimizer\n",
    "criterion = nn.MSELoss() # mean squared loss error\n",
    "optimizer = optim.SGD(model.parameters(), lr=0.01) # stochastic gradient descent with a learning rate of 0.01\n",
    "\n",
    "# training the loop\n",
    "num_epochs = 100\n",
    "for epoch in range(num_epochs):\n",
    "    # forward pass\n",
    "    predictions = model(X)\n",
    "    loss = criterion(predictions.squeeze(), y)\n",
    "\n",
    "    # backward pass (backpropagation)\n",
    "    optimizer.zero_grad() # clear previous gradients\n",
    "    loss.backward() # compute gradients\n",
    "\n",
    "    # optimizer step\n",
    "    optimizer.step() # updating model parameters\n",
    "\n",
    "    # printing progress every 10 epochs\n",
    "    if(epoch + 1) % 10 == 0:\n",
    "        print(f\"Epoch [{epoch + 1}/{num_epochs}], Loss: {loss.item():.4f}\")\n",
    "\n",
    "print(\"Training Finihed!\")"
   ]
  },
  {
   "cell_type": "code",
   "execution_count": null,
   "id": "bca6a004-62a2-42d9-a353-418acf805809",
   "metadata": {},
   "outputs": [],
   "source": []
  }
 ],
 "metadata": {
  "kernelspec": {
   "display_name": "Python 3 (ipykernel)",
   "language": "python",
   "name": "python3"
  },
  "language_info": {
   "codemirror_mode": {
    "name": "ipython",
    "version": 3
   },
   "file_extension": ".py",
   "mimetype": "text/x-python",
   "name": "python",
   "nbconvert_exporter": "python",
   "pygments_lexer": "ipython3",
   "version": "3.9.23"
  }
 },
 "nbformat": 4,
 "nbformat_minor": 5
}
